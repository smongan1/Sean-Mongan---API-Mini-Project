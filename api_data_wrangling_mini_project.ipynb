{
 "cells": [
  {
   "cell_type": "markdown",
   "metadata": {},
   "source": [
    "This exercise will require you to pull some data from the Qunadl API. Qaundl is currently the most widely used aggregator of financial market data."
   ]
  },
  {
   "cell_type": "markdown",
   "metadata": {},
   "source": [
    "As a first step, you will need to register a free account on the http://www.quandl.com website."
   ]
  },
  {
   "cell_type": "markdown",
   "metadata": {},
   "source": [
    "After you register, you will be provided with a unique API key, that you should store:"
   ]
  },
  {
   "cell_type": "code",
   "execution_count": 4,
   "metadata": {
    "jupyter": {
     "outputs_hidden": true
    }
   },
   "outputs": [],
   "source": [
    "# Store the API key as a string - according to PEP8, constants are always named in all upper case\n",
    "API_KEY = 'zEo51sdy-V2yLZfpcAjf'"
   ]
  },
  {
   "cell_type": "markdown",
   "metadata": {},
   "source": [
    "Qaundl has a large number of data sources, but, unfortunately, most of them require a Premium subscription. Still, there are also a good number of free datasets."
   ]
  },
  {
   "cell_type": "markdown",
   "metadata": {},
   "source": [
    "For this mini project, we will focus on equities data from the Frankfurt Stock Exhange (FSE), which is available for free. We'll try and analyze the stock prices of a company called Carl Zeiss Meditec, which manufactures tools for eye examinations, as well as medical lasers for laser eye surgery: https://www.zeiss.com/meditec/int/home.html. The company is listed under the stock ticker AFX_X."
   ]
  },
  {
   "cell_type": "markdown",
   "metadata": {},
   "source": [
    "You can find the detailed Quandl API instructions here: https://docs.quandl.com/docs/time-series"
   ]
  },
  {
   "cell_type": "markdown",
   "metadata": {},
   "source": [
    "While there is a dedicated Python package for connecting to the Quandl API, we would prefer that you use the *requests* package, which can be easily downloaded using *pip* or *conda*. You can find the documentation for the package here: http://docs.python-requests.org/en/master/ "
   ]
  },
  {
   "cell_type": "markdown",
   "metadata": {},
   "source": [
    "Finally, apart from the *requests* package, you are encouraged to not use any third party Python packages, such as *pandas*, and instead focus on what's available in the Python Standard Library (the *collections* module might come in handy: https://pymotw.com/3/collections/ ).\n",
    "Also, since you won't have access to DataFrames, you are encouraged to us Python's native data structures - preferably dictionaries, though some questions can also be answered using lists.\n",
    "You can read more on these data structures here: https://docs.python.org/3/tutorial/datastructures.html"
   ]
  },
  {
   "cell_type": "markdown",
   "metadata": {},
   "source": [
    "Keep in mind that the JSON responses you will be getting from the API map almost one-to-one to Python's dictionaries. Unfortunately, they can be very nested, so make sure you read up on indexing dictionaries in the documentation provided above."
   ]
  },
  {
   "cell_type": "code",
   "execution_count": 8,
   "metadata": {
    "jupyter": {
     "outputs_hidden": true
    }
   },
   "outputs": [],
   "source": [
    "# First, import the relevant modules\n",
    "import collections\n",
    "import requests"
   ]
  },
  {
   "cell_type": "markdown",
   "metadata": {},
   "source": [
    "Note: API's can change a bit with each version, for this exercise it is reccomended to use the \"V3\" quandl api at `https://www.quandl.com/api/v3/`"
   ]
  },
  {
   "cell_type": "code",
   "execution_count": 22,
   "metadata": {
    "jupyter": {
     "outputs_hidden": true
    }
   },
   "outputs": [],
   "source": [
    "# Now, call the Quandl API and pull out a small sample of the data (only one day) to get a glimpse\n",
    "# into the JSON structure that will be returned\n",
    "r = requests.get(\"https://www.quandl.com/api/v3/datasets/FSE/AFX_X/data.json\",params = {'api_key' : API_KEY, 'start_date':'2020-11-16','end_date':'2020-11-16'})"
   ]
  },
  {
   "cell_type": "code",
   "execution_count": 23,
   "metadata": {
    "jupyter": {
     "outputs_hidden": true
    }
   },
   "outputs": [
    {
     "data": {
      "text/plain": [
       "{'dataset_data': {'limit': None,\n",
       "  'transform': None,\n",
       "  'column_index': None,\n",
       "  'column_names': ['Date',\n",
       "   'Open',\n",
       "   'High',\n",
       "   'Low',\n",
       "   'Close',\n",
       "   'Change',\n",
       "   'Traded Volume',\n",
       "   'Turnover',\n",
       "   'Last Price of the Day',\n",
       "   'Daily Traded Units',\n",
       "   'Daily Turnover'],\n",
       "  'start_date': '2020-11-16',\n",
       "  'end_date': '2020-11-16',\n",
       "  'frequency': 'daily',\n",
       "  'data': [['2020-11-16',\n",
       "    118.9,\n",
       "    119.8,\n",
       "    118.1,\n",
       "    118.1,\n",
       "    None,\n",
       "    266.0,\n",
       "    31637.8,\n",
       "    None,\n",
       "    None,\n",
       "    None]],\n",
       "  'collapse': None,\n",
       "  'order': None}}"
      ]
     },
     "execution_count": 23,
     "metadata": {},
     "output_type": "execute_result"
    }
   ],
   "source": [
    "# Inspect the JSON structure of the object you created, and take note of how nested it is,\n",
    "# as well as the overall structure\n",
    "r.json()"
   ]
  },
  {
   "cell_type": "markdown",
   "metadata": {},
   "source": [
    "These are your tasks for this mini project:\n",
    "\n",
    "1. Collect data from the Franfurt Stock Exchange, for the ticker AFX_X, for the whole year 2017 (keep in mind that the date format is YYYY-MM-DD).\n",
    "2. Convert the returned JSON object into a Python dictionary.\n",
    "3. Calculate what the highest and lowest opening prices were for the stock in this period.\n",
    "4. What was the largest change in any one day (based on High and Low price)?\n",
    "5. What was the largest change between any two days (based on Closing Price)?\n",
    "6. What was the average daily trading volume during this year?\n",
    "7. (Optional) What was the median trading volume during this year. (Note: you may need to implement your own function for calculating the median.)"
   ]
  },
  {
   "cell_type": "code",
   "execution_count": 37,
   "metadata": {
    "jupyter": {
     "outputs_hidden": true
    }
   },
   "outputs": [],
   "source": [
    "afx_data = requests.get(\"https://www.quandl.com/api/v3/datasets/FSE/AFX_X/data.json\",params = {'api_key' : API_KEY})\n",
    "afx_keys = afx_data.json()['dataset_data']['column_names']; #gets the column names to use as keys for the dictionary\n",
    "afx_date_entries = afx_data.json()['dataset_data']['data'] #gets all the data entries\n",
    "afx_dict = {} #creates an empty dictionary\n",
    "for key in afx_keys: #this loop is used to predefine each dictionary key with a list as the entry to use append method\n",
    "        afx_dict[key] = []\n",
    "for entry in afx_date_entries:\n",
    "    for idx,key in enumerate(afx_keys):\n",
    "        if entry[idx] != None: # selects only the entries with a value not equal to NoneType\n",
    "            afx_dict[key].append(entry[idx]) # appends the list for a selected key"
   ]
  },
  {
   "cell_type": "code",
   "execution_count": 68,
   "metadata": {},
   "outputs": [
    {
     "name": "stdout",
     "output_type": "stream",
     "text": [
      "The maximum stock price:  123.7\n",
      "The minimum stock price:  4.3\n",
      "The largest change in one day based on High and Low price:  14.1\n",
      "The largest change between two days based on closing price:  11.2\n",
      "The maximum trading volume:  2957391.0\n",
      "The median trading volume:  41556.0\n"
     ]
    }
   ],
   "source": [
    "def temp_median(num_list): \n",
    "    # function takes in a list of numbers num_list and outputs the median of the list.\n",
    "    l = float(len(num_list)) # gets the length as a float data type to keep decimals when divided by 2\n",
    "    sorted_list = sorted(num_list)# sorts the input list\n",
    "    if l/2 == float(int(l/2)): #checks if the list is even or odd in length\n",
    "        med = (sorted_list[int(l/2)]+sorted_list[int(l/2-1)])/2 # median for list of length n even is (x_n/2+x_n/2-1)/2\n",
    "    else:\n",
    "        med = sorted_list[int((l-1)/2)] # median for list of length n odd is x_(n-1)/2\n",
    "    return med\n",
    "print('The maximum stock price: ', max(afx_dict['High']))\n",
    "print('The minimum stock price: ', min(afx_dict['High']))\n",
    "print('The largest change in one day based on High and Low price: ', max([round(afx_dict['High'][x]-afx_dict['Low'][x],2) for x in range(0,len(afx_dict['Low']))]))\n",
    "print('The largest change between two days based on closing price: ', max([round(abs(afx_dict['Close'][x]-afx_dict['Close'][x+1]),2) for x in range(0,len(afx_dict['Low'])-1)]))\n",
    "print('The maximum trading volume: ', max(afx_dict['Traded Volume']))\n",
    "print('The median trading volume: ', temp_median(afx_dict['Traded Volume']))"
   ]
  },
  {
   "cell_type": "code",
   "execution_count": null,
   "metadata": {},
   "outputs": [],
   "source": []
  }
 ],
 "metadata": {
  "kernelspec": {
   "display_name": "Python 3",
   "language": "python",
   "name": "python3"
  },
  "language_info": {
   "codemirror_mode": {
    "name": "ipython",
    "version": 3
   },
   "file_extension": ".py",
   "mimetype": "text/x-python",
   "name": "python",
   "nbconvert_exporter": "python",
   "pygments_lexer": "ipython3",
   "version": "3.8.5"
  }
 },
 "nbformat": 4,
 "nbformat_minor": 4
}
